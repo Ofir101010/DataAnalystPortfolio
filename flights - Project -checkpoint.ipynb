{
 "cells": [
  {
   "cell_type": "markdown",
   "metadata": {},
   "source": [
    "# Lab - working with online data "
   ]
  },
  {
   "cell_type": "markdown",
   "metadata": {},
   "source": [
    "In this Lab , you will load , clean and store online flights data"
   ]
  },
  {
   "cell_type": "code",
   "execution_count": 1,
   "metadata": {},
   "outputs": [],
   "source": [
    "import pandas as pd\n",
    "import numpy as np\n",
    "import matplotlib.pyplot as plt\n",
    "import seaborn as sb\n",
    "import datetime"
   ]
  },
  {
   "cell_type": "code",
   "execution_count": 2,
   "metadata": {},
   "outputs": [],
   "source": [
    "import requests\n",
    "import json\n"
   ]
  },
  {
   "cell_type": "markdown",
   "metadata": {},
   "source": [
    "# Load the data"
   ]
  },
  {
   "cell_type": "code",
   "execution_count": null,
   "metadata": {},
   "outputs": [],
   "source": [
    "r = requests.get(\"https://data.gov.il/api/3/action/datastore_search?resource_id=e83f763b-b7d7-479e-b172-ae981ddc6de5&limit=5000\")"
   ]
  },
  {
   "cell_type": "code",
   "execution_count": null,
   "metadata": {},
   "outputs": [],
   "source": [
    "res = json.loads(r.content)"
   ]
  },
  {
   "cell_type": "code",
   "execution_count": null,
   "metadata": {},
   "outputs": [],
   "source": [
    "df = pd.DataFrame(res['result']['records'])"
   ]
  },
  {
   "cell_type": "code",
   "execution_count": null,
   "metadata": {},
   "outputs": [],
   "source": [
    "df"
   ]
  },
  {
   "cell_type": "markdown",
   "metadata": {},
   "source": [
    "## display the first rows "
   ]
  },
  {
   "cell_type": "code",
   "execution_count": null,
   "metadata": {},
   "outputs": [],
   "source": [
    "df.head(10)"
   ]
  },
  {
   "cell_type": "markdown",
   "metadata": {},
   "source": [
    "### display the last 10 rows - What's wrong? "
   ]
  },
  {
   "cell_type": "markdown",
   "metadata": {},
   "source": [
    "###### nothing as of current date"
   ]
  },
  {
   "cell_type": "code",
   "execution_count": null,
   "metadata": {},
   "outputs": [],
   "source": [
    "df.tail(10)"
   ]
  },
  {
   "cell_type": "markdown",
   "metadata": {},
   "source": [
    "# clean the data"
   ]
  },
  {
   "cell_type": "markdown",
   "metadata": {},
   "source": [
    "how many rows contains empty strings for each Column? (use a for loop to display the column name and percentage)"
   ]
  },
  {
   "cell_type": "code",
   "execution_count": null,
   "metadata": {},
   "outputs": [],
   "source": [
    "for i in range(len(df.columns)):\n",
    "    if df.iloc[:, i].isnull().any():\n",
    "        print('column name: ', df.columns[i], 'has null values')\n",
    "    else:\n",
    "        print('No null values in column name: ', df.columns[i])\n",
    "df.isnull().mean()*100"
   ]
  },
  {
   "cell_type": "markdown",
   "metadata": {},
   "source": [
    "drop the empty rows  "
   ]
  },
  {
   "cell_type": "code",
   "execution_count": null,
   "metadata": {},
   "outputs": [],
   "source": [
    "for i in df.columns:\n",
    "    if df.columns.isnull().any():\n",
    "        df.drop(df.columns.isnull() , axis=1)\n",
    "else:\n",
    "    print('No rows to drop !')"
   ]
  },
  {
   "cell_type": "markdown",
   "metadata": {},
   "source": [
    "format the current date with underscore separation (%d_%m_%y)"
   ]
  },
  {
   "cell_type": "code",
   "execution_count": null,
   "metadata": {},
   "outputs": [],
   "source": [
    "from datetime import date\n",
    "date.today().strftime('%d_%m_%y')"
   ]
  },
  {
   "cell_type": "markdown",
   "metadata": {},
   "source": [
    "Drop the _id column "
   ]
  },
  {
   "cell_type": "code",
   "execution_count": null,
   "metadata": {},
   "outputs": [],
   "source": [
    "df.set_index(df.columns[0])"
   ]
  },
  {
   "cell_type": "markdown",
   "metadata": {},
   "source": [
    "save the raw data (add the current date to the file name) "
   ]
  },
  {
   "cell_type": "code",
   "execution_count": null,
   "metadata": {},
   "outputs": [],
   "source": [
    "filename = \"dataset.\"+date.today().strftime('%d_%m_%y')+\".csv\"\n",
    "df.to_csv(filename, index=False)"
   ]
  },
  {
   "cell_type": "markdown",
   "metadata": {},
   "source": [
    "select the airline code and name without duplicates (CHOPER,CHOPERD)"
   ]
  },
  {
   "cell_type": "code",
   "execution_count": null,
   "metadata": {},
   "outputs": [],
   "source": [
    "s1 = df[['CHOPER','CHOPERD']].drop_duplicates()\n",
    "s1"
   ]
  },
  {
   "cell_type": "markdown",
   "metadata": {},
   "source": [
    "Load the file airlines.csv and merge it with a new data and save the file 'airline.csv'"
   ]
  },
  {
   "cell_type": "code",
   "execution_count": null,
   "metadata": {},
   "outputs": [],
   "source": [
    "import os\n",
    "os.chdir('C:\\\\Users\\\\ofiro\\\\Desktop\\\\Python project (1)') \n",
    "airlines = pd.read_csv('airlines.csv')\n",
    "\n",
    "s = pd.concat([airlines,s1],ignore_index=True).drop_duplicates()\n",
    "s\n",
    "filename = \"airline.\"+date.today().strftime('%d_%m_%y')+\".csv\"\n",
    "s.to_csv(filename, index=False)"
   ]
  },
  {
   "cell_type": "markdown",
   "metadata": {},
   "source": [
    "Drop the Airline name column "
   ]
  },
  {
   "cell_type": "code",
   "execution_count": null,
   "metadata": {},
   "outputs": [],
   "source": [
    "df.drop('CHOPER',axis=1,inplace=True)\n",
    "df"
   ]
  },
  {
   "cell_type": "markdown",
   "metadata": {},
   "source": [
    "Do the same task with airports (CHLOC1,CHLOC1D) and save the file 'airports.csv'"
   ]
  },
  {
   "cell_type": "code",
   "execution_count": null,
   "metadata": {},
   "outputs": [],
   "source": [
    "s2 = df[['CHLOC1','CHLOC1D']].drop_duplicates()\n",
    "s2\n",
    "airports = pd.read_csv('airports.csv')\n",
    "\n",
    "a = pd.concat([airports,s2],ignore_index=True).drop_duplicates()\n",
    "a\n",
    "filename = \"airports.\"+date.today().strftime('%d_%m_%y')+\".csv\"\n",
    "a.to_csv(filename, index=False)"
   ]
  },
  {
   "cell_type": "markdown",
   "metadata": {},
   "source": [
    "drop the hebrew columns 'CHLOC1TH','CHLOC1CH','CHRMINH'"
   ]
  },
  {
   "cell_type": "code",
   "execution_count": null,
   "metadata": {},
   "outputs": [],
   "source": [
    "df.drop(['CHLOC1TH','CHLOC1CH','CHRMINH'],axis=1,inplace=True)\n",
    "df"
   ]
  },
  {
   "cell_type": "markdown",
   "metadata": {},
   "source": [
    "### rename the columns "
   ]
  },
  {
   "cell_type": "markdown",
   "metadata": {},
   "source": [
    "Change the PlanTime and ActualTime columns type to np.datetime64"
   ]
  },
  {
   "cell_type": "code",
   "execution_count": null,
   "metadata": {},
   "outputs": [],
   "source": [
    "df.CHSTOL= df.CHSTOL.astype('datetime64[ns]')\n",
    "df.CHPTOL=df.CHPTOL.astype('datetime64[ns]')\n",
    "df"
   ]
  },
  {
   "cell_type": "markdown",
   "metadata": {},
   "source": [
    "Save the clean data to new file clean.csv"
   ]
  },
  {
   "cell_type": "code",
   "execution_count": null,
   "metadata": {},
   "outputs": [],
   "source": [
    "filename = \"clean.\"+date.today().strftime('%d_%m_%y')+\".csv\"\n",
    "df.to_csv(filename, index=False)"
   ]
  },
  {
   "cell_type": "markdown",
   "metadata": {},
   "source": [
    "update the file final.csv with departed, landed and canceled flights only"
   ]
  },
  {
   "cell_type": "code",
   "execution_count": null,
   "metadata": {},
   "outputs": [],
   "source": [
    "df1 = df[df.CHRMINE.isin(['LANDED','DEPARTED','CANCELED'])]\n",
    "filename = \"final.\"+date.today().strftime('%d_%m_%y')+\".csv\"\n",
    "df1.to_csv(filename, index=False)\n",
    "df1"
   ]
  },
  {
   "cell_type": "markdown",
   "metadata": {},
   "source": [
    "Add a new column for total delay in minutes"
   ]
  },
  {
   "cell_type": "code",
   "execution_count": null,
   "metadata": {},
   "outputs": [],
   "source": [
    "df['Delay_m'] = (df.CHPTOL - df.CHSTOL).dt.total_seconds()/60\n",
    "df"
   ]
  },
  {
   "cell_type": "markdown",
   "metadata": {},
   "source": [
    "What is the average delay for departed flights"
   ]
  },
  {
   "cell_type": "code",
   "execution_count": null,
   "metadata": {},
   "outputs": [],
   "source": [
    "df.Delay_m[df.CHRMINE == 'DEPARTED'].mean()"
   ]
  },
  {
   "cell_type": "markdown",
   "metadata": {},
   "source": [
    "Display total delay distribution (Airlines , Terminals, Date)"
   ]
  },
  {
   "cell_type": "code",
   "execution_count": null,
   "metadata": {},
   "outputs": [],
   "source": [
    "#Per Airline:\n",
    "df.Delay_m.groupby(df.CHOPERD).sum()\n",
    "\n",
    "#Per Terminal:\n",
    "df.Delay_m.groupby(df.CHTERM).sum()\n",
    "\n",
    "#Per Date:\n",
    "df.Delay_m.groupby(df.CHPTOL).sum()"
   ]
  },
  {
   "cell_type": "markdown",
   "metadata": {},
   "source": [
    "create 3 diffrent visualizations with your analyzation"
   ]
  },
  {
   "cell_type": "code",
   "execution_count": null,
   "metadata": {},
   "outputs": [],
   "source": [
    "AvgDelay = df[df['CHOPERD'].isin(df.groupby('CHOPERD').Delay_m.mean().sort_values(ascending=False).head(10).index)].groupby('CHOPERD').Delay_m.mean().sort_values(ascending=False).to_frame()\n",
    "AvgDelay\n",
    "mean = df.Delay_m.mean()\n",
    "mean\n",
    "AvgDelay.loc['Avg amount of delay'] = mean"
   ]
  },
  {
   "cell_type": "code",
   "execution_count": null,
   "metadata": {},
   "outputs": [],
   "source": [
    "plt.figure(figsize=(24,8))\n",
    "plt.title('Top 10 deleied airlines per flight',color='r',fontsize=30)\n",
    "sb.set_style(style='white')\n",
    "sb.barplot(x=AvgDelay.index, y='Delay_m', data=AvgDelay)\n",
    "plt.xlabel('AirLine',color='r',fontsize=22)\n",
    "plt.ylabel('Minutes',color='r',fontsize=20,rotation=0)\n",
    "plt.show()"
   ]
  },
  {
   "cell_type": "code",
   "execution_count": null,
   "metadata": {},
   "outputs": [],
   "source": [
    "NumOfArrivals = result = df[df['CHOPERD'].isin(df.groupby('CHOPERD').Delay_m.mean().sort_values(ascending=False).head(10).index)].CHOPERD.value_counts().to_frame()\n",
    "NumOfArrivals\n",
    "mean = df.CHOPERD.value_counts().mean()\n",
    "NumOfArrivals.loc['Avg amount of arrivals'] = mean"
   ]
  },
  {
   "cell_type": "code",
   "execution_count": null,
   "metadata": {},
   "outputs": [],
   "source": [
    "plt.figure(figsize=(24,8))\n",
    "plt.title('Amount of arrivales for top 10 deleied airlines per flight VS avg Amount of arrivales per airline ',color='r',fontsize=30)\n",
    "sb.set_style(style='white')\n",
    "sb.barplot(x=NumOfArrivals.index, y='count', data=NumOfArrivals)\n",
    "plt.xlabel('AirLine',color='r',fontsize=22)\n",
    "plt.ylabel('Minutes',color='r',fontsize=20,rotation=0)\n",
    "plt.show()"
   ]
  },
  {
   "cell_type": "code",
   "execution_count": null,
   "metadata": {},
   "outputs": [],
   "source": [
    "Night_flights_Top10 = df[df['CHPTOL'].dt.hour.between(18, 23) | df['CHPTOL'].dt.hour.between(0, 5)].CHLOC1D.value_counts().sort_values(ascending=False).head(10).to_frame()\n",
    "Night_flights_Top10\n",
    "mean = df.CHLOC1D.value_counts().mean()\n",
    "Night_flights_Top10.loc['Avg amount of arrivals'] = mean\n",
    "night_mean = df[df['CHPTOL'].dt.hour.between(18, 23) | df['CHPTOL'].dt.hour.between(0, 5)].CHLOC1D.value_counts().mean()\n",
    "Night_flights_Top10.loc['Avg night arrivels'] = night_mean"
   ]
  },
  {
   "cell_type": "code",
   "execution_count": null,
   "metadata": {},
   "outputs": [],
   "source": [
    "plt.figure(figsize=(26,8))\n",
    "plt.title('Top 10 arivels at night-time per airport VS avg amount VS',color='r',size=30)\n",
    "sb.barplot(x=Night_flights_Top10.index, y='count', data=Night_flights_Top10)\n",
    "plt.xlabel('AirLine',color='r',fontsize=22)\n",
    "plt.ylabel('arivels',color='r',fontsize=22,rotation=0)\n",
    "plt.show()"
   ]
  },
  {
   "cell_type": "code",
   "execution_count": null,
   "metadata": {},
   "outputs": [],
   "source": []
  }
 ],
 "metadata": {
  "kernelspec": {
   "display_name": "Python 3 (ipykernel)",
   "language": "python",
   "name": "python3"
  },
  "language_info": {
   "codemirror_mode": {
    "name": "ipython",
    "version": 3
   },
   "file_extension": ".py",
   "mimetype": "text/x-python",
   "name": "python",
   "nbconvert_exporter": "python",
   "pygments_lexer": "ipython3",
   "version": "3.10.9"
  }
 },
 "nbformat": 4,
 "nbformat_minor": 4
}
